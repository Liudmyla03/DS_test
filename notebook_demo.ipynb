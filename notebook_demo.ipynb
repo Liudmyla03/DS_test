{
  "cells": [
    {
      "cell_type": "markdown",
      "source": [
        "# MNIST Classification — Random Forest, NN, CNN\n",
        "This notebook demonstrates how to train and evaluate three models using the same interface.\n"
      ],
      "metadata": {
        "id": "fhZhDNBKO831"
      }
    },
    {
      "cell_type": "code",
      "execution_count": 1,
      "source": [
        "import warnings\r\n",
        "warnings.filterwarnings('ignore')"
      ],
      "outputs": [],
      "metadata": {
        "id": "k39zy5y9OTVP"
      }
    },
    {
      "cell_type": "markdown",
      "source": [
        "### Imports & load"
      ],
      "metadata": {
        "id": "425465fa-9c1a-46a9-8e05-40343fa86b22"
      }
    },
    {
      "cell_type": "code",
      "execution_count": 2,
      "source": [
        "# Imports\r\n",
        "import numpy as np\r\n",
        "from utils import load_mnist_flat\r\n",
        "from mnist_interface import MnistClassifier\r\n",
        "import matplotlib.pyplot as plt\r\n",
        "\r\n",
        "# Load MNIST (with channel dim for CNN)\r\n",
        "x_train, y_train, x_test, y_test = load_mnist_flat(as_channels=True)\r\n",
        "print(\"Shapes:\", x_train.shape, y_train.shape, x_test.shape, y_test.shape)"
      ],
      "outputs": [
        {
          "output_type": "stream",
          "name": "stdout",
          "text": [
            "Shapes: (60000, 28, 28, 1) (60000,) (10000, 28, 28, 1) (10000,)\n"
          ]
        }
      ],
      "metadata": {
        "colab": {
          "base_uri": "https://localhost:8080/"
        },
        "id": "4faccbaa-9b18-471a-a17c-d3e9ef271a58",
        "outputId": "512d272a-7af5-4cb0-fe1b-bc659d131491"
      }
    },
    {
      "cell_type": "markdown",
      "source": [
        "### Visualize a few digits"
      ],
      "metadata": {
        "id": "cd7e7936-5b84-4c9f-8d05-ea63bdcb15bc"
      }
    },
    {
      "cell_type": "code",
      "execution_count": 3,
      "source": [
        "fig, axes = plt.subplots(2, 5, figsize=(10,4))\r\n",
        "for i, ax in enumerate(axes.flatten()):\r\n",
        "    ax.imshow(x_train[i].squeeze(), cmap='gray')\r\n",
        "    ax.set_title(int(y_train[i]))\r\n",
        "    ax.axis('off')\r\n",
        "plt.tight_layout()\r\n"
      ],
      "outputs": [
        {
          "output_type": "display_data",
          "data": {
            "image/png": "[encoded data removed]",
            "text/plain": [
              "<Figure size 1000x400 with 10 Axes>"
            ]
          },
          "metadata": {}
        }
      ],
      "metadata": {
        "colab": {
          "base_uri": "https://localhost:8080/",
          "height": 410
        },
        "id": "3fb361a7-c71b-40e5-8ec6-d7778a623b66",
        "outputId": "ba685ad8-2a26-4c01-a4fc-78c5b91116e9"
      }
    },
    {
      "cell_type": "markdown",
      "source": [
        "### Quick RF demo"
      ],
      "metadata": {
        "id": "5559bb46-78b4-4e97-9690-1bd0453423e2"
      }
    },
    {
      "cell_type": "code",
      "execution_count": 4,
      "source": [
        "# Random Forest (flattened)\r\n",
        "clf_rf = MnistClassifier('rf', n_estimators=100)\r\n",
        "# train on a small subset to be fast\r\n",
        "clf_rf.train(x_train[:5000], y_train[:5000])\r\n",
        "preds_rf = clf_rf.predict(x_test[:500])\r\n",
        "acc_rf = (preds_rf == y_test[:500]).mean()\r\n",
        "print(\"RF accuracy on 500 test samples:\", acc_rf)\r\n"
      ],
      "outputs": [
        {
          "output_type": "stream",
          "name": "stdout",
          "text": [
            "RF accuracy on 500 test samples: 0.948\n"
          ]
        }
      ],
      "metadata": {
        "colab": {
          "base_uri": "https://localhost:8080/"
        },
        "id": "54c3e36a-6ee2-4e9e-bdb0-35ba90565afc",
        "outputId": "8bbae347-e8bb-43d8-f0fd-c967b75d4b9d"
      }
    },
    {
      "cell_type": "markdown",
      "source": [
        "### Quick Feed-Forward NN demo"
      ],
      "metadata": {
        "id": "800fc13f-0ae6-4827-a4c9-3932f2a8a20f"
      }
    },
    {
      "cell_type": "code",
      "execution_count": 5,
      "source": [
        "clf_nn = MnistClassifier('nn', epochs=3, batch_size=256)\r\n",
        "# NOTE: feed-forward expects same input shape but will flatten internally\r\n",
        "clf_nn.train(x_train[:15000], y_train[:15000], X_val=x_test[:2000], y_val=y_test[:2000])\r\n",
        "preds_nn = clf_nn.predict(x_test[:2000])\r\n",
        "acc_nn = (preds_nn == y_test[:2000]).mean()\r\n",
        "print(\"FFNN accuracy on 2000 test samples:\", acc_nn)\r\n"
      ],
      "outputs": [
        {
          "output_type": "stream",
          "name": "stdout",
          "text": [
            "Epoch 1/3\n",
            "59/59 - 3s - 52ms/step - accuracy: 0.7529 - loss: 0.8238 - val_accuracy: 0.8780 - val_loss: 0.4157\n",
            "Epoch 2/3\n",
            "59/59 - 1s - 15ms/step - accuracy: 0.9063 - loss: 0.3260 - val_accuracy: 0.9140 - val_loss: 0.2852\n",
            "Epoch 3/3\n",
            "59/59 - 2s - 30ms/step - accuracy: 0.9274 - loss: 0.2434 - val_accuracy: 0.9225 - val_loss: 0.2396\n",
            "\u001b[1m63/63\u001b[0m \u001b[32m━━━━━━━━━━━━━━━━━━━━\u001b[0m\u001b[37m\u001b[0m \u001b[1m0s\u001b[0m 3ms/step\n",
            "FFNN accuracy on 2000 test samples: 0.9225\n"
          ]
        }
      ],
      "metadata": {
        "colab": {
          "base_uri": "https://localhost:8080/"
        },
        "id": "42114927-aacd-42c6-9110-99ce74585d30",
        "outputId": "ca995e9e-dbed-4074-e498-6ab0492e4abb"
      }
    },
    {
      "cell_type": "markdown",
      "source": [
        "### Quick CNN demo"
      ],
      "metadata": {
        "id": "039981ed-ad78-466a-a501-95f025db1379"
      }
    },
    {
      "cell_type": "code",
      "execution_count": 6,
      "source": [
        "clf_cnn = MnistClassifier('cnn', epochs=3, batch_size=128)\r\n",
        "clf_cnn.train(x_train[:15000], y_train[:15000], X_val=x_test[:2000], y_val=y_test[:2000])\r\n",
        "preds_cnn = clf_cnn.predict(x_test[:2000])\r\n",
        "acc_cnn = (preds_cnn == y_test[:2000]).mean()\r\n",
        "print(\"CNN accuracy on 2000 test samples:\", acc_cnn)\r\n"
      ],
      "outputs": [
        {
          "output_type": "stream",
          "name": "stdout",
          "text": [
            "Epoch 1/3\n",
            "118/118 - 31s - 264ms/step - accuracy: 0.8798 - loss: 0.4191 - val_accuracy: 0.2840 - val_loss: 1.9522\n",
            "Epoch 2/3\n",
            "118/118 - 28s - 234ms/step - accuracy: 0.9649 - loss: 0.1175 - val_accuracy: 0.3865 - val_loss: 1.7655\n",
            "Epoch 3/3\n",
            "118/118 - 40s - 336ms/step - accuracy: 0.9770 - loss: 0.0720 - val_accuracy: 0.6850 - val_loss: 0.8387\n",
            "\u001b[1m63/63\u001b[0m \u001b[32m━━━━━━━━━━━━━━━━━━━━\u001b[0m\u001b[37m\u001b[0m \u001b[1m2s\u001b[0m 25ms/step\n",
            "CNN accuracy on 2000 test samples: 0.685\n"
          ]
        }
      ],
      "metadata": {
        "colab": {
          "base_uri": "https://localhost:8080/"
        },
        "id": "4ec8765d-1c50-45dd-bb4d-db71c83a08c2",
        "outputId": "892f2e22-69a5-450f-d3ad-8410f596a17e"
      }
    },
    {
      "cell_type": "markdown",
      "source": [
        "### Edge cases"
      ],
      "metadata": {
        "id": "fL6_xM6sKNRu"
      }
    },
    {
      "cell_type": "code",
      "execution_count": 7,
      "source": [
        "# Wrong shape\r\n",
        "try:\r\n",
        "    bad_X = np.zeros((10, 28))  # wrong\r\n",
        "    print(\"RF predict on bad_X:\", clf_rf.predict(bad_X))\r\n",
        "except Exception as e:\r\n",
        "    print(\"Error on bad shape (expected):\", e)\r\n",
        "\r\n",
        "# Empty input\r\n",
        "try:\r\n",
        "    empty = np.zeros((0,28,28,1))\r\n",
        "    print(\"CNN predict on empty:\", clf_cnn.predict(empty))\r\n",
        "except Exception as e:\r\n",
        "    print(\"Error on empty input (expected):\", e)\r\n"
      ],
      "outputs": [
        {
          "output_type": "stream",
          "name": "stdout",
          "text": [
            "Error on bad shape (expected): X has 28 features, but RandomForestClassifier is expecting 784 features as input.\n",
            "Error on empty input (expected): math domain error\n"
          ]
        }
      ],
      "metadata": {
        "colab": {
          "base_uri": "https://localhost:8080/"
        },
        "id": "6zw1iJ8KKO05",
        "outputId": "badb5b33-6ae9-4161-e6ef-48577beb16c1"
      }
    },
    {
      "cell_type": "markdown",
      "source": [
        "### Conclusion\r\n",
        "\r\n",
        "Random Forest has the most accurate results among the selected models - accuracy 94,8%. For Feed-Forward Neural Network accuracy is 92,25%. At last CNN accuracy is the least - 68,5%"
      ],
      "metadata": {
        "id": "6W2Uu2a3JCIA"
      }
    }
  ],
  "metadata": {
    "kernelspec": {
      "display_name": "Python 3 (ipykernel)",
      "language": "python",
      "name": "python3"
    },
    "language_info": {
      "codemirror_mode": {
        "name": "ipython",
        "version": 3
      },
      "file_extension": ".py",
      "mimetype": "text/x-python",
      "name": "python",
      "nbconvert_exporter": "python",
      "pygments_lexer": "ipython3",
      "version": "3.13.5"
    },
    "colab": {
      "provenance": []
    }
  },
  "nbformat": 4,
  "nbformat_minor": 5
}